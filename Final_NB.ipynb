{
 "cells": [
  {
   "cell_type": "markdown",
   "metadata": {
    "slideshow": {
     "slide_type": "slide"
    }
   },
   "source": [
    "# TEAM-4\n",
    "\n",
    "* Vighneshwar Jaiswal\n",
    "* Pawan Mathur\n",
    "* Anujay Saraf\n",
    "* Rohan Damodar"
   ]
  },
  {
   "cell_type": "markdown",
   "metadata": {
    "slideshow": {
     "slide_type": "slide"
    }
   },
   "source": [
    "# Problem Statement.\n",
    "* Predict whether a particular  company  will  default  within  5   years,  given its numerical financial  statement  data\n",
    "\n",
    "#### The  dataset  is  about  bankruptcy  prediction  of  Polish  companies.  The  data  was  collected  from Emerging  Markets  Information  Service,  which  is  a   database  containing  information  on  emerging  markets around  the  world. \n",
    "> Dataset Link : https://archive.ics.uci.edu/ml/datasets/Polish+companies+bankruptcy+data"
   ]
  },
  {
   "cell_type": "markdown",
   "metadata": {
    "slideshow": {
     "slide_type": "slide"
    }
   },
   "source": [
    "#        What is Bankruptcy\n",
    "\n",
    "##### Bankruptcy is a legal proceeding involving a person or business that is unable to repay outstanding debts. \n",
    "\n",
    "\n",
    "##### All of the debtor's assets are measured and evaluated, and the assets may be used to repay a portion of outstanding debt [Investopedia]\n"
   ]
  },
  {
   "cell_type": "markdown",
   "metadata": {
    "slideshow": {
     "slide_type": "slide"
    }
   },
   "source": [
    "## Altman’s method - Z-Score [Investopedia]\n",
    "### Bankruptcy is a function of \n",
    "\n",
    "* Working capital / total assets\n",
    "* Retained earnings / total assets\n",
    "* Earnings before interest and tax / total assets\n",
    "* Market value of equity / total liabilities\n",
    "* sales / total assets\n",
    "\n",
    "### Incorporating these into our analysis didn't improve our model performance. "
   ]
  },
  {
   "cell_type": "markdown",
   "metadata": {
    "slideshow": {
     "slide_type": "slide"
    }
   },
   "source": [
    "#  The Data\n",
    "* Data from five years \n",
    "*  Bankruptcy prediction of Polish companies.\n",
    "*  Problem :  to predict whether a company will go bankrupt between 5 years, \n",
    "\n",
    "## Therefore : All 5 years data could be combined !"
   ]
  },
  {
   "cell_type": "markdown",
   "metadata": {
    "slideshow": {
     "slide_type": "skip"
    }
   },
   "source": [
    "# Creating a consolidated dataframe"
   ]
  },
  {
   "cell_type": "code",
   "execution_count": 1,
   "metadata": {
    "collapsed": true,
    "slideshow": {
     "slide_type": "skip"
    }
   },
   "outputs": [],
   "source": [
    "from scipy.io import arff # Since the file type was arff\n",
    "import pandas as pd"
   ]
  },
  {
   "cell_type": "code",
   "execution_count": 2,
   "metadata": {
    "collapsed": true,
    "slideshow": {
     "slide_type": "skip"
    }
   },
   "outputs": [],
   "source": [
    "data1 = arff.loadarff('data/1year.arff')\n",
    "data2 = arff.loadarff('data/2year.arff')\n",
    "data3 = arff.loadarff('data/3year.arff')\n",
    "data4 = arff.loadarff('data/4year.arff')\n",
    "data5 = arff.loadarff('data/5year.arff')\n",
    "\n",
    "d1 = pd.DataFrame(data1[0])\n",
    "d2 = pd.DataFrame(data2[0])\n",
    "d3 = pd.DataFrame(data3[0])\n",
    "d4 = pd.DataFrame(data4[0])\n",
    "d5 = pd.DataFrame(data5[0])\n",
    "\n",
    "final_df = d1.append([d2,d3,d4,d5])"
   ]
  },
  {
   "cell_type": "markdown",
   "metadata": {
    "slideshow": {
     "slide_type": "skip"
    }
   },
   "source": [
    "# Describe the DataFrame"
   ]
  },
  {
   "cell_type": "code",
   "execution_count": 3,
   "metadata": {
    "scrolled": true,
    "slideshow": {
     "slide_type": "skip"
    }
   },
   "outputs": [
    {
     "data": {
      "text/html": [
       "<div>\n",
       "<style>\n",
       "    .dataframe thead tr:only-child th {\n",
       "        text-align: right;\n",
       "    }\n",
       "\n",
       "    .dataframe thead th {\n",
       "        text-align: left;\n",
       "    }\n",
       "\n",
       "    .dataframe tbody tr th {\n",
       "        vertical-align: top;\n",
       "    }\n",
       "</style>\n",
       "<table border=\"1\" class=\"dataframe\">\n",
       "  <thead>\n",
       "    <tr style=\"text-align: right;\">\n",
       "      <th></th>\n",
       "      <th>Attr1</th>\n",
       "      <th>Attr2</th>\n",
       "      <th>Attr3</th>\n",
       "      <th>Attr4</th>\n",
       "      <th>Attr5</th>\n",
       "      <th>Attr6</th>\n",
       "      <th>Attr7</th>\n",
       "      <th>Attr8</th>\n",
       "      <th>Attr9</th>\n",
       "      <th>Attr10</th>\n",
       "      <th>...</th>\n",
       "      <th>Attr55</th>\n",
       "      <th>Attr56</th>\n",
       "      <th>Attr57</th>\n",
       "      <th>Attr58</th>\n",
       "      <th>Attr59</th>\n",
       "      <th>Attr60</th>\n",
       "      <th>Attr61</th>\n",
       "      <th>Attr62</th>\n",
       "      <th>Attr63</th>\n",
       "      <th>Attr64</th>\n",
       "    </tr>\n",
       "  </thead>\n",
       "  <tbody>\n",
       "    <tr>\n",
       "      <th>count</th>\n",
       "      <td>43397.000000</td>\n",
       "      <td>43397.000000</td>\n",
       "      <td>43397.000000</td>\n",
       "      <td>43271.000000</td>\n",
       "      <td>4.331600e+04</td>\n",
       "      <td>43397.000000</td>\n",
       "      <td>43397.000000</td>\n",
       "      <td>43311.000000</td>\n",
       "      <td>43396.000000</td>\n",
       "      <td>43397.000000</td>\n",
       "      <td>...</td>\n",
       "      <td>4.340400e+04</td>\n",
       "      <td>4.327800e+04</td>\n",
       "      <td>43398.000000</td>\n",
       "      <td>4.332100e+04</td>\n",
       "      <td>43398.000000</td>\n",
       "      <td>4.125300e+04</td>\n",
       "      <td>43303.000000</td>\n",
       "      <td>4.327800e+04</td>\n",
       "      <td>43271.000000</td>\n",
       "      <td>42593.000000</td>\n",
       "    </tr>\n",
       "    <tr>\n",
       "      <th>mean</th>\n",
       "      <td>0.035160</td>\n",
       "      <td>0.590212</td>\n",
       "      <td>0.114431</td>\n",
       "      <td>6.314702</td>\n",
       "      <td>-3.853466e+02</td>\n",
       "      <td>-0.056107</td>\n",
       "      <td>0.093478</td>\n",
       "      <td>12.640779</td>\n",
       "      <td>2.652166</td>\n",
       "      <td>0.626868</td>\n",
       "      <td>...</td>\n",
       "      <td>7.672188e+03</td>\n",
       "      <td>-2.621959e+01</td>\n",
       "      <td>-0.010510</td>\n",
       "      <td>3.002644e+01</td>\n",
       "      <td>1.333288</td>\n",
       "      <td>4.480858e+02</td>\n",
       "      <td>17.033202</td>\n",
       "      <td>1.502328e+03</td>\n",
       "      <td>9.343074</td>\n",
       "      <td>72.788592</td>\n",
       "    </tr>\n",
       "    <tr>\n",
       "      <th>std</th>\n",
       "      <td>2.994109</td>\n",
       "      <td>5.842748</td>\n",
       "      <td>5.439429</td>\n",
       "      <td>295.434425</td>\n",
       "      <td>6.124303e+04</td>\n",
       "      <td>7.201326</td>\n",
       "      <td>5.713075</td>\n",
       "      <td>505.894281</td>\n",
       "      <td>62.932732</td>\n",
       "      <td>14.670597</td>\n",
       "      <td>...</td>\n",
       "      <td>7.005310e+04</td>\n",
       "      <td>5.327862e+03</td>\n",
       "      <td>13.674072</td>\n",
       "      <td>5.334454e+03</td>\n",
       "      <td>122.104445</td>\n",
       "      <td>3.234560e+04</td>\n",
       "      <td>553.049406</td>\n",
       "      <td>1.392667e+05</td>\n",
       "      <td>124.177354</td>\n",
       "      <td>2369.339482</td>\n",
       "    </tr>\n",
       "    <tr>\n",
       "      <th>min</th>\n",
       "      <td>-463.890000</td>\n",
       "      <td>-430.870000</td>\n",
       "      <td>-479.960000</td>\n",
       "      <td>-0.403110</td>\n",
       "      <td>-1.190300e+07</td>\n",
       "      <td>-508.410000</td>\n",
       "      <td>-517.480000</td>\n",
       "      <td>-141.410000</td>\n",
       "      <td>-3.496000</td>\n",
       "      <td>-479.910000</td>\n",
       "      <td>...</td>\n",
       "      <td>-1.805200e+06</td>\n",
       "      <td>-1.108300e+06</td>\n",
       "      <td>-1667.300000</td>\n",
       "      <td>-1.986900e+02</td>\n",
       "      <td>-327.970000</td>\n",
       "      <td>-1.244000e+01</td>\n",
       "      <td>-12.656000</td>\n",
       "      <td>-2.336500e+06</td>\n",
       "      <td>-1.543200</td>\n",
       "      <td>-10677.000000</td>\n",
       "    </tr>\n",
       "    <tr>\n",
       "      <th>25%</th>\n",
       "      <td>0.003429</td>\n",
       "      <td>0.268980</td>\n",
       "      <td>0.021521</td>\n",
       "      <td>1.049500</td>\n",
       "      <td>-4.908000e+01</td>\n",
       "      <td>0.000000</td>\n",
       "      <td>0.005776</td>\n",
       "      <td>0.430275</td>\n",
       "      <td>1.018500</td>\n",
       "      <td>0.295470</td>\n",
       "      <td>...</td>\n",
       "      <td>2.755425e+01</td>\n",
       "      <td>9.348500e-03</td>\n",
       "      <td>0.014649</td>\n",
       "      <td>8.753200e-01</td>\n",
       "      <td>0.000000</td>\n",
       "      <td>5.545500e+00</td>\n",
       "      <td>4.510150</td>\n",
       "      <td>4.214400e+01</td>\n",
       "      <td>3.097650</td>\n",
       "      <td>2.176800</td>\n",
       "    </tr>\n",
       "    <tr>\n",
       "      <th>50%</th>\n",
       "      <td>0.049660</td>\n",
       "      <td>0.471900</td>\n",
       "      <td>0.196610</td>\n",
       "      <td>1.569800</td>\n",
       "      <td>-1.034500e+00</td>\n",
       "      <td>0.000000</td>\n",
       "      <td>0.059634</td>\n",
       "      <td>1.070400</td>\n",
       "      <td>1.195350</td>\n",
       "      <td>0.505970</td>\n",
       "      <td>...</td>\n",
       "      <td>1.088350e+03</td>\n",
       "      <td>5.294300e-02</td>\n",
       "      <td>0.119670</td>\n",
       "      <td>9.509600e-01</td>\n",
       "      <td>0.006366</td>\n",
       "      <td>9.791700e+00</td>\n",
       "      <td>6.636300</td>\n",
       "      <td>7.132600e+01</td>\n",
       "      <td>5.087600</td>\n",
       "      <td>4.282500</td>\n",
       "    </tr>\n",
       "    <tr>\n",
       "      <th>75%</th>\n",
       "      <td>0.129580</td>\n",
       "      <td>0.688320</td>\n",
       "      <td>0.403390</td>\n",
       "      <td>2.787450</td>\n",
       "      <td>5.063425e+01</td>\n",
       "      <td>0.089446</td>\n",
       "      <td>0.150880</td>\n",
       "      <td>2.615700</td>\n",
       "      <td>2.062500</td>\n",
       "      <td>0.709100</td>\n",
       "      <td>...</td>\n",
       "      <td>4.993325e+03</td>\n",
       "      <td>1.290975e-01</td>\n",
       "      <td>0.284605</td>\n",
       "      <td>9.926400e-01</td>\n",
       "      <td>0.236052</td>\n",
       "      <td>2.018100e+01</td>\n",
       "      <td>10.394500</td>\n",
       "      <td>1.172200e+02</td>\n",
       "      <td>8.598850</td>\n",
       "      <td>9.776200</td>\n",
       "    </tr>\n",
       "    <tr>\n",
       "      <th>max</th>\n",
       "      <td>94.280000</td>\n",
       "      <td>480.960000</td>\n",
       "      <td>28.336000</td>\n",
       "      <td>53433.000000</td>\n",
       "      <td>1.250100e+06</td>\n",
       "      <td>543.250000</td>\n",
       "      <td>649.230000</td>\n",
       "      <td>53432.000000</td>\n",
       "      <td>9742.300000</td>\n",
       "      <td>1099.500000</td>\n",
       "      <td>...</td>\n",
       "      <td>6.123700e+06</td>\n",
       "      <td>2.931500e+02</td>\n",
       "      <td>552.640000</td>\n",
       "      <td>1.108300e+06</td>\n",
       "      <td>23853.000000</td>\n",
       "      <td>4.818700e+06</td>\n",
       "      <td>108000.000000</td>\n",
       "      <td>2.501600e+07</td>\n",
       "      <td>23454.000000</td>\n",
       "      <td>294770.000000</td>\n",
       "    </tr>\n",
       "  </tbody>\n",
       "</table>\n",
       "<p>8 rows × 64 columns</p>\n",
       "</div>"
      ],
      "text/plain": [
       "              Attr1         Attr2         Attr3         Attr4         Attr5  \\\n",
       "count  43397.000000  43397.000000  43397.000000  43271.000000  4.331600e+04   \n",
       "mean       0.035160      0.590212      0.114431      6.314702 -3.853466e+02   \n",
       "std        2.994109      5.842748      5.439429    295.434425  6.124303e+04   \n",
       "min     -463.890000   -430.870000   -479.960000     -0.403110 -1.190300e+07   \n",
       "25%        0.003429      0.268980      0.021521      1.049500 -4.908000e+01   \n",
       "50%        0.049660      0.471900      0.196610      1.569800 -1.034500e+00   \n",
       "75%        0.129580      0.688320      0.403390      2.787450  5.063425e+01   \n",
       "max       94.280000    480.960000     28.336000  53433.000000  1.250100e+06   \n",
       "\n",
       "              Attr6         Attr7         Attr8         Attr9        Attr10  \\\n",
       "count  43397.000000  43397.000000  43311.000000  43396.000000  43397.000000   \n",
       "mean      -0.056107      0.093478     12.640779      2.652166      0.626868   \n",
       "std        7.201326      5.713075    505.894281     62.932732     14.670597   \n",
       "min     -508.410000   -517.480000   -141.410000     -3.496000   -479.910000   \n",
       "25%        0.000000      0.005776      0.430275      1.018500      0.295470   \n",
       "50%        0.000000      0.059634      1.070400      1.195350      0.505970   \n",
       "75%        0.089446      0.150880      2.615700      2.062500      0.709100   \n",
       "max      543.250000    649.230000  53432.000000   9742.300000   1099.500000   \n",
       "\n",
       "           ...              Attr55        Attr56        Attr57        Attr58  \\\n",
       "count      ...        4.340400e+04  4.327800e+04  43398.000000  4.332100e+04   \n",
       "mean       ...        7.672188e+03 -2.621959e+01     -0.010510  3.002644e+01   \n",
       "std        ...        7.005310e+04  5.327862e+03     13.674072  5.334454e+03   \n",
       "min        ...       -1.805200e+06 -1.108300e+06  -1667.300000 -1.986900e+02   \n",
       "25%        ...        2.755425e+01  9.348500e-03      0.014649  8.753200e-01   \n",
       "50%        ...        1.088350e+03  5.294300e-02      0.119670  9.509600e-01   \n",
       "75%        ...        4.993325e+03  1.290975e-01      0.284605  9.926400e-01   \n",
       "max        ...        6.123700e+06  2.931500e+02    552.640000  1.108300e+06   \n",
       "\n",
       "             Attr59        Attr60         Attr61        Attr62        Attr63  \\\n",
       "count  43398.000000  4.125300e+04   43303.000000  4.327800e+04  43271.000000   \n",
       "mean       1.333288  4.480858e+02      17.033202  1.502328e+03      9.343074   \n",
       "std      122.104445  3.234560e+04     553.049406  1.392667e+05    124.177354   \n",
       "min     -327.970000 -1.244000e+01     -12.656000 -2.336500e+06     -1.543200   \n",
       "25%        0.000000  5.545500e+00       4.510150  4.214400e+01      3.097650   \n",
       "50%        0.006366  9.791700e+00       6.636300  7.132600e+01      5.087600   \n",
       "75%        0.236052  2.018100e+01      10.394500  1.172200e+02      8.598850   \n",
       "max    23853.000000  4.818700e+06  108000.000000  2.501600e+07  23454.000000   \n",
       "\n",
       "              Attr64  \n",
       "count   42593.000000  \n",
       "mean       72.788592  \n",
       "std      2369.339482  \n",
       "min    -10677.000000  \n",
       "25%         2.176800  \n",
       "50%         4.282500  \n",
       "75%         9.776200  \n",
       "max    294770.000000  \n",
       "\n",
       "[8 rows x 64 columns]"
      ]
     },
     "execution_count": 3,
     "metadata": {},
     "output_type": "execute_result"
    }
   ],
   "source": [
    "final_df.describe()"
   ]
  },
  {
   "cell_type": "code",
   "execution_count": 4,
   "metadata": {
    "scrolled": true,
    "slideshow": {
     "slide_type": "skip"
    }
   },
   "outputs": [
    {
     "name": "stdout",
     "output_type": "stream",
     "text": [
      "<class 'pandas.core.frame.DataFrame'>\n",
      "Int64Index: 43405 entries, 0 to 5909\n",
      "Data columns (total 65 columns):\n",
      "Attr1     43397 non-null float64\n",
      "Attr2     43397 non-null float64\n",
      "Attr3     43397 non-null float64\n",
      "Attr4     43271 non-null float64\n",
      "Attr5     43316 non-null float64\n",
      "Attr6     43397 non-null float64\n",
      "Attr7     43397 non-null float64\n",
      "Attr8     43311 non-null float64\n",
      "Attr9     43396 non-null float64\n",
      "Attr10    43397 non-null float64\n",
      "Attr11    43361 non-null float64\n",
      "Attr12    43271 non-null float64\n",
      "Attr13    43278 non-null float64\n",
      "Attr14    43397 non-null float64\n",
      "Attr15    43369 non-null float64\n",
      "Attr16    43310 non-null float64\n",
      "Attr17    43311 non-null float64\n",
      "Attr18    43397 non-null float64\n",
      "Attr19    43277 non-null float64\n",
      "Attr20    43278 non-null float64\n",
      "Attr21    37551 non-null float64\n",
      "Attr22    43397 non-null float64\n",
      "Attr23    43278 non-null float64\n",
      "Attr24    42483 non-null float64\n",
      "Attr25    43397 non-null float64\n",
      "Attr26    43310 non-null float64\n",
      "Attr27    40641 non-null float64\n",
      "Attr28    42593 non-null float64\n",
      "Attr29    43397 non-null float64\n",
      "Attr30    43278 non-null float64\n",
      "Attr31    43278 non-null float64\n",
      "Attr32    43037 non-null float64\n",
      "Attr33    43271 non-null float64\n",
      "Attr34    43311 non-null float64\n",
      "Attr35    43397 non-null float64\n",
      "Attr36    43397 non-null float64\n",
      "Attr37    24421 non-null float64\n",
      "Attr38    43397 non-null float64\n",
      "Attr39    43278 non-null float64\n",
      "Attr40    43271 non-null float64\n",
      "Attr41    42651 non-null float64\n",
      "Attr42    43278 non-null float64\n",
      "Attr43    43278 non-null float64\n",
      "Attr44    43278 non-null float64\n",
      "Attr45    41258 non-null float64\n",
      "Attr46    43270 non-null float64\n",
      "Attr47    43108 non-null float64\n",
      "Attr48    43396 non-null float64\n",
      "Attr49    43278 non-null float64\n",
      "Attr50    43311 non-null float64\n",
      "Attr51    43397 non-null float64\n",
      "Attr52    43104 non-null float64\n",
      "Attr53    42593 non-null float64\n",
      "Attr54    42593 non-null float64\n",
      "Attr55    43404 non-null float64\n",
      "Attr56    43278 non-null float64\n",
      "Attr57    43398 non-null float64\n",
      "Attr58    43321 non-null float64\n",
      "Attr59    43398 non-null float64\n",
      "Attr60    41253 non-null float64\n",
      "Attr61    43303 non-null float64\n",
      "Attr62    43278 non-null float64\n",
      "Attr63    43271 non-null float64\n",
      "Attr64    42593 non-null float64\n",
      "class     43405 non-null object\n",
      "dtypes: float64(64), object(1)\n",
      "memory usage: 21.9+ MB\n"
     ]
    }
   ],
   "source": [
    "final_df.info()"
   ]
  },
  {
   "cell_type": "markdown",
   "metadata": {
    "slideshow": {
     "slide_type": "slide"
    }
   },
   "source": [
    "# Check class imbalance"
   ]
  },
  {
   "cell_type": "code",
   "execution_count": 5,
   "metadata": {
    "slideshow": {
     "slide_type": "subslide"
    }
   },
   "outputs": [
    {
     "data": {
      "text/html": [
       "<div>\n",
       "<style>\n",
       "    .dataframe thead tr:only-child th {\n",
       "        text-align: right;\n",
       "    }\n",
       "\n",
       "    .dataframe thead th {\n",
       "        text-align: left;\n",
       "    }\n",
       "\n",
       "    .dataframe tbody tr th {\n",
       "        vertical-align: top;\n",
       "    }\n",
       "</style>\n",
       "<table border=\"1\" class=\"dataframe\">\n",
       "  <thead>\n",
       "    <tr style=\"text-align: right;\">\n",
       "      <th></th>\n",
       "      <th>Attr1</th>\n",
       "      <th>Attr2</th>\n",
       "      <th>Attr3</th>\n",
       "      <th>Attr4</th>\n",
       "      <th>Attr5</th>\n",
       "      <th>Attr6</th>\n",
       "      <th>Attr7</th>\n",
       "      <th>Attr8</th>\n",
       "      <th>Attr9</th>\n",
       "      <th>Attr10</th>\n",
       "      <th>...</th>\n",
       "      <th>Attr55</th>\n",
       "      <th>Attr56</th>\n",
       "      <th>Attr57</th>\n",
       "      <th>Attr58</th>\n",
       "      <th>Attr59</th>\n",
       "      <th>Attr60</th>\n",
       "      <th>Attr61</th>\n",
       "      <th>Attr62</th>\n",
       "      <th>Attr63</th>\n",
       "      <th>Attr64</th>\n",
       "    </tr>\n",
       "    <tr>\n",
       "      <th>class</th>\n",
       "      <th></th>\n",
       "      <th></th>\n",
       "      <th></th>\n",
       "      <th></th>\n",
       "      <th></th>\n",
       "      <th></th>\n",
       "      <th></th>\n",
       "      <th></th>\n",
       "      <th></th>\n",
       "      <th></th>\n",
       "      <th></th>\n",
       "      <th></th>\n",
       "      <th></th>\n",
       "      <th></th>\n",
       "      <th></th>\n",
       "      <th></th>\n",
       "      <th></th>\n",
       "      <th></th>\n",
       "      <th></th>\n",
       "      <th></th>\n",
       "      <th></th>\n",
       "    </tr>\n",
       "  </thead>\n",
       "  <tbody>\n",
       "    <tr>\n",
       "      <th>0</th>\n",
       "      <td>41307</td>\n",
       "      <td>41307</td>\n",
       "      <td>41307</td>\n",
       "      <td>41186</td>\n",
       "      <td>41225</td>\n",
       "      <td>41307</td>\n",
       "      <td>41307</td>\n",
       "      <td>41225</td>\n",
       "      <td>41306</td>\n",
       "      <td>41307</td>\n",
       "      <td>...</td>\n",
       "      <td>41313</td>\n",
       "      <td>41198</td>\n",
       "      <td>41309</td>\n",
       "      <td>41237</td>\n",
       "      <td>41309</td>\n",
       "      <td>39338</td>\n",
       "      <td>41220</td>\n",
       "      <td>41198</td>\n",
       "      <td>41186</td>\n",
       "      <td>40582</td>\n",
       "    </tr>\n",
       "    <tr>\n",
       "      <th>1</th>\n",
       "      <td>2090</td>\n",
       "      <td>2090</td>\n",
       "      <td>2090</td>\n",
       "      <td>2085</td>\n",
       "      <td>2091</td>\n",
       "      <td>2090</td>\n",
       "      <td>2090</td>\n",
       "      <td>2086</td>\n",
       "      <td>2090</td>\n",
       "      <td>2090</td>\n",
       "      <td>...</td>\n",
       "      <td>2091</td>\n",
       "      <td>2080</td>\n",
       "      <td>2089</td>\n",
       "      <td>2084</td>\n",
       "      <td>2089</td>\n",
       "      <td>1915</td>\n",
       "      <td>2083</td>\n",
       "      <td>2080</td>\n",
       "      <td>2085</td>\n",
       "      <td>2011</td>\n",
       "    </tr>\n",
       "  </tbody>\n",
       "</table>\n",
       "<p>2 rows × 64 columns</p>\n",
       "</div>"
      ],
      "text/plain": [
       "       Attr1  Attr2  Attr3  Attr4  Attr5  Attr6  Attr7  Attr8  Attr9  Attr10  \\\n",
       "class                                                                          \n",
       "0      41307  41307  41307  41186  41225  41307  41307  41225  41306   41307   \n",
       "1       2090   2090   2090   2085   2091   2090   2090   2086   2090    2090   \n",
       "\n",
       "        ...    Attr55  Attr56  Attr57  Attr58  Attr59  Attr60  Attr61  Attr62  \\\n",
       "class   ...                                                                     \n",
       "0       ...     41313   41198   41309   41237   41309   39338   41220   41198   \n",
       "1       ...      2091    2080    2089    2084    2089    1915    2083    2080   \n",
       "\n",
       "       Attr63  Attr64  \n",
       "class                  \n",
       "0       41186   40582  \n",
       "1        2085    2011  \n",
       "\n",
       "[2 rows x 64 columns]"
      ]
     },
     "execution_count": 5,
     "metadata": {},
     "output_type": "execute_result"
    }
   ],
   "source": [
    "# Class Imbalance\n",
    "\n",
    "final_df.groupby('class').count()"
   ]
  },
  {
   "cell_type": "markdown",
   "metadata": {
    "slideshow": {
     "slide_type": "slide"
    }
   },
   "source": [
    "# Handle Outliers"
   ]
  },
  {
   "cell_type": "code",
   "execution_count": 6,
   "metadata": {
    "collapsed": true,
    "slideshow": {
     "slide_type": "subslide"
    }
   },
   "outputs": [],
   "source": [
    "# Replacing outliers with quantile limit\n",
    "\n",
    "for col in final_df.columns.values:\n",
    "    if(col != 'class'):\n",
    "        final_df.loc[final_df[col] > final_df[col].quantile(q=0.95), col] = final_df[col].quantile(q=0.95)\n",
    "        final_df.loc[final_df[col] < final_df[col].quantile(q=0.05), col] = final_df[col].quantile(q=0.05)"
   ]
  },
  {
   "cell_type": "markdown",
   "metadata": {
    "slideshow": {
     "slide_type": "slide"
    }
   },
   "source": [
    "# Handle Missing Values"
   ]
  },
  {
   "cell_type": "code",
   "execution_count": 7,
   "metadata": {
    "slideshow": {
     "slide_type": "subslide"
    }
   },
   "outputs": [
    {
     "data": {
      "image/png": "[encoded data removed]",
      "text/plain": [
       "<matplotlib.figure.Figure at 0x7f8325eae950>"
      ]
     },
     "metadata": {},
     "output_type": "display_data"
    }
   ],
   "source": [
    "import seaborn as sns\n",
    "import matplotlib.pyplot as plt\n",
    "%matplotlib inline\n",
    "import missingno as msno\n",
    "\n",
    "msno.matrix(final_df)"
   ]
  },
  {
   "cell_type": "markdown",
   "metadata": {
    "slideshow": {
     "slide_type": "skip"
    }
   },
   "source": [
    "# Train Test Split"
   ]
  },
  {
   "cell_type": "code",
   "execution_count": 8,
   "metadata": {
    "collapsed": true,
    "slideshow": {
     "slide_type": "skip"
    }
   },
   "outputs": [],
   "source": [
    "from sklearn.model_selection import train_test_split\n",
    "\n",
    "X = final_df.iloc[:,0:-1]\n",
    "y = final_df['class'].map(lambda x: 1 if x == '1' else 0).values \n",
    "# did this ^ because, without this mask, was getting below error on metric calculations\n",
    "# ValueError: pos_label=1 is not a valid label: array(['0', '1'], dtype='|S1')"
   ]
  },
  {
   "cell_type": "code",
   "execution_count": 9,
   "metadata": {
    "slideshow": {
     "slide_type": "slide"
    }
   },
   "outputs": [
    {
     "name": "stdout",
     "output_type": "stream",
     "text": [
      "True\n",
      "False\n"
     ]
    }
   ],
   "source": [
    "from sklearn.preprocessing import Imputer\n",
    "\n",
    "imp = Imputer(strategy='mean', axis=0) \n",
    "print X.isnull().values.any()\n",
    "\n",
    "X_imputed = pd.DataFrame(imp.fit_transform(X))\n",
    "\n",
    "print X_imputed.isnull().values.any()"
   ]
  },
  {
   "cell_type": "markdown",
   "metadata": {
    "slideshow": {
     "slide_type": "slide"
    }
   },
   "source": [
    "# Feature selection"
   ]
  },
  {
   "cell_type": "markdown",
   "metadata": {
    "slideshow": {
     "slide_type": "subslide"
    }
   },
   "source": [
    "# 1. Scaling"
   ]
  },
  {
   "cell_type": "code",
   "execution_count": 10,
   "metadata": {
    "slideshow": {
     "slide_type": "subslide"
    }
   },
   "outputs": [
    {
     "data": {
      "text/html": [
       "<div>\n",
       "<style>\n",
       "    .dataframe thead tr:only-child th {\n",
       "        text-align: right;\n",
       "    }\n",
       "\n",
       "    .dataframe thead th {\n",
       "        text-align: left;\n",
       "    }\n",
       "\n",
       "    .dataframe tbody tr th {\n",
       "        vertical-align: top;\n",
       "    }\n",
       "</style>\n",
       "<table border=\"1\" class=\"dataframe\">\n",
       "  <thead>\n",
       "    <tr style=\"text-align: right;\">\n",
       "      <th></th>\n",
       "      <th>0</th>\n",
       "      <th>1</th>\n",
       "      <th>2</th>\n",
       "      <th>3</th>\n",
       "      <th>4</th>\n",
       "      <th>5</th>\n",
       "      <th>6</th>\n",
       "      <th>7</th>\n",
       "      <th>8</th>\n",
       "      <th>9</th>\n",
       "      <th>...</th>\n",
       "      <th>54</th>\n",
       "      <th>55</th>\n",
       "      <th>56</th>\n",
       "      <th>57</th>\n",
       "      <th>58</th>\n",
       "      <th>59</th>\n",
       "      <th>60</th>\n",
       "      <th>61</th>\n",
       "      <th>62</th>\n",
       "      <th>63</th>\n",
       "    </tr>\n",
       "  </thead>\n",
       "  <tbody>\n",
       "    <tr>\n",
       "      <th>0</th>\n",
       "      <td>1.102544</td>\n",
       "      <td>-0.411463</td>\n",
       "      <td>0.691112</td>\n",
       "      <td>-0.162473</td>\n",
       "      <td>0.225250</td>\n",
       "      <td>1.911668</td>\n",
       "      <td>1.266173</td>\n",
       "      <td>-0.308039</td>\n",
       "      <td>-0.526208</td>\n",
       "      <td>0.049464</td>\n",
       "      <td>...</td>\n",
       "      <td>3.237097</td>\n",
       "      <td>0.371909</td>\n",
       "      <td>0.838375</td>\n",
       "      <td>-0.403053</td>\n",
       "      <td>-0.536961</td>\n",
       "      <td>-0.454037</td>\n",
       "      <td>-0.551024</td>\n",
       "      <td>-0.124972</td>\n",
       "      <td>-0.449524</td>\n",
       "      <td>-0.203463</td>\n",
       "    </tr>\n",
       "    <tr>\n",
       "      <th>1</th>\n",
       "      <td>1.171761</td>\n",
       "      <td>0.037100</td>\n",
       "      <td>0.970564</td>\n",
       "      <td>-0.210181</td>\n",
       "      <td>0.086178</td>\n",
       "      <td>-0.184727</td>\n",
       "      <td>1.329176</td>\n",
       "      <td>-0.424252</td>\n",
       "      <td>0.069188</td>\n",
       "      <td>0.022997</td>\n",
       "      <td>...</td>\n",
       "      <td>-0.238051</td>\n",
       "      <td>0.366522</td>\n",
       "      <td>0.917630</td>\n",
       "      <td>-0.611516</td>\n",
       "      <td>-0.541628</td>\n",
       "      <td>-0.625190</td>\n",
       "      <td>-0.828642</td>\n",
       "      <td>0.234920</td>\n",
       "      <td>-0.640437</td>\n",
       "      <td>3.049112</td>\n",
       "    </tr>\n",
       "    <tr>\n",
       "      <th>2</th>\n",
       "      <td>1.491114</td>\n",
       "      <td>0.767651</td>\n",
       "      <td>0.214747</td>\n",
       "      <td>-0.391658</td>\n",
       "      <td>-0.040015</td>\n",
       "      <td>-0.184727</td>\n",
       "      <td>1.701615</td>\n",
       "      <td>-0.618489</td>\n",
       "      <td>-0.345582</td>\n",
       "      <td>-0.703543</td>\n",
       "      <td>...</td>\n",
       "      <td>0.198291</td>\n",
       "      <td>1.344692</td>\n",
       "      <td>2.297728</td>\n",
       "      <td>-1.335892</td>\n",
       "      <td>1.143760</td>\n",
       "      <td>-0.591408</td>\n",
       "      <td>-0.727692</td>\n",
       "      <td>0.627285</td>\n",
       "      <td>-0.768521</td>\n",
       "      <td>-0.338274</td>\n",
       "    </tr>\n",
       "    <tr>\n",
       "      <th>3</th>\n",
       "      <td>0.140877</td>\n",
       "      <td>-0.680407</td>\n",
       "      <td>0.920967</td>\n",
       "      <td>0.044930</td>\n",
       "      <td>0.380442</td>\n",
       "      <td>0.624566</td>\n",
       "      <td>0.112903</td>\n",
       "      <td>-0.121953</td>\n",
       "      <td>-0.613070</td>\n",
       "      <td>0.306602</td>\n",
       "      <td>...</td>\n",
       "      <td>1.737831</td>\n",
       "      <td>-0.182679</td>\n",
       "      <td>-0.046863</td>\n",
       "      <td>0.162561</td>\n",
       "      <td>-0.541628</td>\n",
       "      <td>-0.608105</td>\n",
       "      <td>-0.777780</td>\n",
       "      <td>-0.069921</td>\n",
       "      <td>-0.485797</td>\n",
       "      <td>-0.317511</td>\n",
       "    </tr>\n",
       "    <tr>\n",
       "      <th>4</th>\n",
       "      <td>0.995690</td>\n",
       "      <td>0.459503</td>\n",
       "      <td>0.076458</td>\n",
       "      <td>-0.460777</td>\n",
       "      <td>-0.088791</td>\n",
       "      <td>0.826727</td>\n",
       "      <td>0.807673</td>\n",
       "      <td>-0.551174</td>\n",
       "      <td>-0.508156</td>\n",
       "      <td>-0.393545</td>\n",
       "      <td>...</td>\n",
       "      <td>-0.142509</td>\n",
       "      <td>0.477121</td>\n",
       "      <td>1.140718</td>\n",
       "      <td>-0.510365</td>\n",
       "      <td>-0.239789</td>\n",
       "      <td>-0.534953</td>\n",
       "      <td>-0.673360</td>\n",
       "      <td>0.524384</td>\n",
       "      <td>-0.740198</td>\n",
       "      <td>-0.174902</td>\n",
       "    </tr>\n",
       "  </tbody>\n",
       "</table>\n",
       "<p>5 rows × 64 columns</p>\n",
       "</div>"
      ],
      "text/plain": [
       "         0         1         2         3         4         5         6   \\\n",
       "0  1.102544 -0.411463  0.691112 -0.162473  0.225250  1.911668  1.266173   \n",
       "1  1.171761  0.037100  0.970564 -0.210181  0.086178 -0.184727  1.329176   \n",
       "2  1.491114  0.767651  0.214747 -0.391658 -0.040015 -0.184727  1.701615   \n",
       "3  0.140877 -0.680407  0.920967  0.044930  0.380442  0.624566  0.112903   \n",
       "4  0.995690  0.459503  0.076458 -0.460777 -0.088791  0.826727  0.807673   \n",
       "\n",
       "         7         8         9     ...           54        55        56  \\\n",
       "0 -0.308039 -0.526208  0.049464    ...     3.237097  0.371909  0.838375   \n",
       "1 -0.424252  0.069188  0.022997    ...    -0.238051  0.366522  0.917630   \n",
       "2 -0.618489 -0.345582 -0.703543    ...     0.198291  1.344692  2.297728   \n",
       "3 -0.121953 -0.613070  0.306602    ...     1.737831 -0.182679 -0.046863   \n",
       "4 -0.551174 -0.508156 -0.393545    ...    -0.142509  0.477121  1.140718   \n",
       "\n",
       "         57        58        59        60        61        62        63  \n",
       "0 -0.403053 -0.536961 -0.454037 -0.551024 -0.124972 -0.449524 -0.203463  \n",
       "1 -0.611516 -0.541628 -0.625190 -0.828642  0.234920 -0.640437  3.049112  \n",
       "2 -1.335892  1.143760 -0.591408 -0.727692  0.627285 -0.768521 -0.338274  \n",
       "3  0.162561 -0.541628 -0.608105 -0.777780 -0.069921 -0.485797 -0.317511  \n",
       "4 -0.510365 -0.239789 -0.534953 -0.673360  0.524384 -0.740198 -0.174902  \n",
       "\n",
       "[5 rows x 64 columns]"
      ]
     },
     "execution_count": 10,
     "metadata": {},
     "output_type": "execute_result"
    }
   ],
   "source": [
    "from sklearn.preprocessing import StandardScaler\n",
    "\n",
    "scaler = StandardScaler()\n",
    "X_scaled = pd.DataFrame(scaler.fit_transform(X_imputed))\n",
    "X_scaled.head()"
   ]
  },
  {
   "cell_type": "markdown",
   "metadata": {
    "slideshow": {
     "slide_type": "slide"
    }
   },
   "source": [
    "# 2.  ExtraTreesClassifier + SelectFromModel"
   ]
  },
  {
   "cell_type": "code",
   "execution_count": 11,
   "metadata": {
    "collapsed": true,
    "slideshow": {
     "slide_type": "subslide"
    }
   },
   "outputs": [],
   "source": [
    "from sklearn.ensemble import ExtraTreesClassifier\n",
    "\n",
    "forest = ExtraTreesClassifier(n_estimators=250,\n",
    "                              n_jobs=-1,\n",
    "                              random_state=9)\n",
    "forest = forest.fit(X_scaled, y)"
   ]
  },
  {
   "cell_type": "code",
   "execution_count": 12,
   "metadata": {
    "slideshow": {
     "slide_type": "subslide"
    }
   },
   "outputs": [
    {
     "data": {
      "text/plain": [
       "(43405, 18)"
      ]
     },
     "execution_count": 12,
     "metadata": {},
     "output_type": "execute_result"
    }
   ],
   "source": [
    "from sklearn.feature_selection import SelectFromModel\n",
    "\n",
    "model = SelectFromModel(forest, prefit=True)\n",
    "X_new = model.transform(X_scaled)\n",
    "X_new.shape"
   ]
  },
  {
   "cell_type": "code",
   "execution_count": 13,
   "metadata": {
    "slideshow": {
     "slide_type": "subslide"
    }
   },
   "outputs": [
    {
     "name": "stdout",
     "output_type": "stream",
     "text": [
      "(0.079921087439511124, 'Attr27')\n",
      "(0.029013643432385439, 'Attr46')\n",
      "(0.027601315955996845, 'Attr58')\n",
      "(0.024217519282636945, 'Attr34')\n",
      "(0.022750419143824179, 'Attr24')\n",
      "(0.0219527028903473, 'Attr56')\n",
      "(0.01756633244736534, 'Attr35')\n",
      "(0.017451643413289922, 'Attr9')\n",
      "(0.017447800072661085, 'Attr39')\n",
      "(0.016995074174854467, 'Attr29')\n",
      "(0.016905620457719348, 'Attr61')\n",
      "(0.016884319546448166, 'Attr5')\n",
      "(0.016717650408329152, 'Attr55')\n",
      "(0.016567758871653421, 'Attr44')\n",
      "(0.016280794539952268, 'Attr25')\n",
      "(0.016133710730448603, 'Attr6')\n",
      "(0.015832542998332415, 'Attr47')\n",
      "(0.01565921990539175, 'Attr36')\n"
     ]
    }
   ],
   "source": [
    "from operator import itemgetter\n",
    "\n",
    "importances = list(zip(forest.feature_importances_, final_df.columns))\n",
    "\n",
    "important_features = sorted(importances,key=itemgetter(0),reverse=True)\n",
    "for i in range(0,18):\n",
    "    print important_features[i]"
   ]
  },
  {
   "cell_type": "markdown",
   "metadata": {},
   "source": [
    "- Note:\n",
    "> The ExtraTreesClassifier with SelectFromModel is used to select the best features from the feature set"
   ]
  },
  {
   "cell_type": "markdown",
   "metadata": {
    "slideshow": {
     "slide_type": "skip"
    }
   },
   "source": [
    "# Dataframe with selected features"
   ]
  },
  {
   "cell_type": "markdown",
   "metadata": {
    "slideshow": {
     "slide_type": "skip"
    }
   },
   "source": [
    "# Train Test Split ( again )"
   ]
  },
  {
   "cell_type": "code",
   "execution_count": 14,
   "metadata": {
    "collapsed": true,
    "slideshow": {
     "slide_type": "skip"
    }
   },
   "outputs": [],
   "source": [
    "X_train, X_test, y_train, y_test = train_test_split(X_new,y,test_size=0.3,random_state=9)"
   ]
  },
  {
   "cell_type": "code",
   "execution_count": 15,
   "metadata": {
    "slideshow": {
     "slide_type": "skip"
    }
   },
   "outputs": [
    {
     "name": "stdout",
     "output_type": "stream",
     "text": [
      "class ratio train  [21]\n",
      "class ration test  [19]\n"
     ]
    }
   ],
   "source": [
    "print \"class ratio train \",(y_train.shape/y_train.sum())\n",
    "print \"class ration test \",(y_test.shape/y_test.sum())"
   ]
  },
  {
   "cell_type": "markdown",
   "metadata": {
    "slideshow": {
     "slide_type": "skip"
    }
   },
   "source": [
    "# Import"
   ]
  },
  {
   "cell_type": "code",
   "execution_count": 16,
   "metadata": {
    "collapsed": true,
    "slideshow": {
     "slide_type": "skip"
    }
   },
   "outputs": [],
   "source": [
    "from sklearn.ensemble import RandomForestClassifier\n",
    "from sklearn.linear_model import LogisticRegression\n",
    "from sklearn.metrics import f1_score,precision_score,recall_score,roc_auc_score,confusion_matrix\n",
    "import numpy as np"
   ]
  },
  {
   "cell_type": "markdown",
   "metadata": {
    "slideshow": {
     "slide_type": "skip"
    }
   },
   "source": [
    "# Initial Performance"
   ]
  },
  {
   "cell_type": "code",
   "execution_count": 18,
   "metadata": {
    "slideshow": {
     "slide_type": "skip"
    }
   },
   "outputs": [
    {
     "name": "stdout",
     "output_type": "stream",
     "text": [
      " f1_score\t: 0.534482758621\n",
      "precision_score\t: 0.911764705882\n",
      "recall_score\t: 0.378048780488\n",
      "roc_auc_score\t: 0.882505705061\n",
      "confusion_matrix:\n",
      "[[12342    24]\n",
      " [  408   248]]\n"
     ]
    }
   ],
   "source": [
    "rf1 = RandomForestClassifier()\n",
    "rf1.fit(X_train,y_train)\n",
    "print \"f1_score\\t:\", f1_score(y_test,rf1.predict(X_test))\n",
    "print \"precision_score\\t:\",precision_score(y_test, rf1.predict(X_test))\n",
    "print \"recall_score\\t:\",recall_score(y_test, rf1.predict(X_test))\n",
    "print \"roc_auc_score\\t:\",roc_auc_score(y_test, rf1.predict_proba(X_test)[:,1])\n",
    "print \"confusion_matrix:\\n\",confusion_matrix(y_test, rf1.predict(X_test))"
   ]
  },
  {
   "cell_type": "code",
   "execution_count": 19,
   "metadata": {
    "slideshow": {
     "slide_type": "skip"
    }
   },
   "outputs": [
    {
     "name": "stdout",
     "output_type": "stream",
     "text": [
      "f1_score\t: 0.00606980273141\n",
      "precision_score\t: 0.666666666667\n",
      "recall_score\t: 0.0030487804878\n",
      "roc_auc_score\t: 0.762439571721\n",
      "confusion_matrix:\n",
      "[[12365     1]\n",
      " [  654     2]]\n"
     ]
    }
   ],
   "source": [
    "lr1 = LogisticRegression(random_state=9)\n",
    "lr1.fit(X_train, y_train)\n",
    "print \"f1_score\\t:\", f1_score(y_test,lr1.predict(X_test))\n",
    "print \"precision_score\\t:\",precision_score(y_test, lr1.predict(X_test))\n",
    "print \"recall_score\\t:\",recall_score(y_test, lr1.predict(X_test))\n",
    "print \"roc_auc_score\\t:\",roc_auc_score(y_test, lr1.predict_proba(X_test)[:,1])\n",
    "print \"confusion_matrix:\\n\",confusion_matrix(y_test, lr1.predict(X_test))"
   ]
  },
  {
   "cell_type": "markdown",
   "metadata": {
    "slideshow": {
     "slide_type": "skip"
    }
   },
   "source": [
    "# Undersampling\n",
    "\n",
    "# 1. RandomUnderSampler"
   ]
  },
  {
   "cell_type": "code",
   "execution_count": 20,
   "metadata": {
    "slideshow": {
     "slide_type": "skip"
    }
   },
   "outputs": [
    {
     "data": {
      "text/plain": [
       "<matplotlib.axes._subplots.AxesSubplot at 0x7f5c5f7dca90>"
      ]
     },
     "execution_count": 20,
     "metadata": {},
     "output_type": "execute_result"
    },
    {
     "data": {
      "image/png": "[encoded data removed]",
      "text/plain": [
       "<matplotlib.figure.Figure at 0x7f5c5b5a7ed0>"
      ]
     },
     "metadata": {},
     "output_type": "display_data"
    }
   ],
   "source": [
    "from imblearn.under_sampling import RandomUnderSampler\n",
    "\n",
    "# Create the samplers\n",
    "rus = RandomUnderSampler(random_state=9)\n",
    "X_sample2, y_sample2 =  rus.fit_sample(X_train, y_train)\n",
    "sns.countplot(y_sample2)"
   ]
  },
  {
   "cell_type": "code",
   "execution_count": 22,
   "metadata": {
    "slideshow": {
     "slide_type": "skip"
    }
   },
   "outputs": [
    {
     "name": "stdout",
     "output_type": "stream",
     "text": [
      " f1_score\t: 0.358260869565\n",
      "precision_score\t: 0.232086525462\n",
      "recall_score\t: 0.78506097561\n",
      "roc_auc_score\t: 0.903659609058\n",
      "confusion_matrix:\n",
      "[[10662  1704]\n",
      " [  141   515]]\n"
     ]
    }
   ],
   "source": [
    "rf2 = RandomForestClassifier(random_state=9)\n",
    "rf2.fit(X_sample2, y_sample2)\n",
    "print \"f1_score\\t:\", f1_score(y_test,rf2.predict(X_test))\n",
    "print \"precision_score\\t:\",precision_score(y_test, rf2.predict(X_test))\n",
    "print \"recall_score\\t:\",recall_score(y_test, rf2.predict(X_test))\n",
    "print \"roc_auc_score\\t:\",roc_auc_score(y_test, rf2.predict_proba(X_test)[:,1])\n",
    "print \"confusion_matrix:\\n\",confusion_matrix(y_test, rf2.predict(X_test))"
   ]
  },
  {
   "cell_type": "code",
   "execution_count": 23,
   "metadata": {
    "slideshow": {
     "slide_type": "skip"
    }
   },
   "outputs": [
    {
     "name": "stdout",
     "output_type": "stream",
     "text": [
      "f1_score\t: 0.190960912052\n",
      "precision_score\t: 0.110197368421\n",
      "recall_score\t: 0.71493902439\n",
      "roc_auc_score\t: 0.762742329479\n",
      "confusion_matrix:\n",
      "[[8579 3787]\n",
      " [ 187  469]]\n"
     ]
    }
   ],
   "source": [
    "lr2 = LogisticRegression(random_state=9)\n",
    "lr2.fit(X_sample2, y_sample2)\n",
    "print \"f1_score\\t:\", f1_score(y_test,lr2.predict(X_test))\n",
    "print \"precision_score\\t:\",precision_score(y_test, lr2.predict(X_test))\n",
    "print \"recall_score\\t:\",recall_score(y_test, lr2.predict(X_test))\n",
    "print \"roc_auc_score\\t:\",roc_auc_score(y_test, lr2.predict_proba(X_test)[:,1])\n",
    "print \"confusion_matrix:\\n\",confusion_matrix(y_test, lr2.predict(X_test))"
   ]
  },
  {
   "cell_type": "markdown",
   "metadata": {
    "slideshow": {
     "slide_type": "skip"
    }
   },
   "source": [
    "# 2. Cluster Centroids"
   ]
  },
  {
   "cell_type": "code",
   "execution_count": 25,
   "metadata": {
    "slideshow": {
     "slide_type": "skip"
    }
   },
   "outputs": [
    {
     "data": {
      "text/plain": [
       "<matplotlib.axes._subplots.AxesSubplot at 0x7f5c5e952f50>"
      ]
     },
     "execution_count": 25,
     "metadata": {},
     "output_type": "execute_result"
    },
    {
     "data": {
      "image/png": "[encoded data removed]",
      "text/plain": [
       "<matplotlib.figure.Figure at 0x7f5c5e987b50>"
      ]
     },
     "metadata": {},
     "output_type": "display_data"
    }
   ],
   "source": [
    "from imblearn.under_sampling import ClusterCentroids\n",
    "\n",
    "cc = ClusterCentroids(random_state=9)\n",
    "X_sample3, y_sample3 = cc.fit_sample(X_train,y_train)\n",
    "sns.countplot(y_sample3)"
   ]
  },
  {
   "cell_type": "code",
   "execution_count": 26,
   "metadata": {
    "slideshow": {
     "slide_type": "skip"
    }
   },
   "outputs": [
    {
     "name": "stdout",
     "output_type": "stream",
     "text": [
      "f1_score\t: 0.203437390389\n",
      "precision_score\t: 0.114942528736\n",
      "recall_score\t: 0.884146341463\n",
      "roc_auc_score\t: 0.854691068745\n",
      "confusion_matrix:\n",
      "[[7900 4466]\n",
      " [  76  580]]\n"
     ]
    }
   ],
   "source": [
    "rf3 = RandomForestClassifier(random_state=9)\n",
    "rf3.fit(X_sample3, y_sample3)\n",
    "print \"f1_score\\t:\", f1_score(y_test,rf3.predict(X_test))\n",
    "print \"precision_score\\t:\",precision_score(y_test, rf3.predict(X_test))\n",
    "print \"recall_score\\t:\",recall_score(y_test, rf3.predict(X_test))\n",
    "print \"roc_auc_score\\t:\",roc_auc_score(y_test, rf3.predict_proba(X_test)[:,1])\n",
    "print \"confusion_matrix:\\n\",confusion_matrix(y_test, rf3.predict(X_test))"
   ]
  },
  {
   "cell_type": "code",
   "execution_count": 27,
   "metadata": {
    "slideshow": {
     "slide_type": "skip"
    }
   },
   "outputs": [
    {
     "name": "stdout",
     "output_type": "stream",
     "text": [
      "f1_score\t: 0.159489633174\n",
      "precision_score\t: 0.0890630566441\n",
      "recall_score\t: 0.762195121951\n",
      "roc_auc_score\t: 0.745117168239\n",
      "confusion_matrix:\n",
      "[[7252 5114]\n",
      " [ 156  500]]\n"
     ]
    }
   ],
   "source": [
    "lr3 = LogisticRegression(random_state=9)\n",
    "lr3.fit(X_sample3, y_sample3)\n",
    "print \"f1_score\\t:\", f1_score(y_test,lr3.predict(X_test))\n",
    "print \"precision_score\\t:\",precision_score(y_test, lr3.predict(X_test))\n",
    "print \"recall_score\\t:\",recall_score(y_test, lr3.predict(X_test))\n",
    "print \"roc_auc_score\\t:\",roc_auc_score(y_test, lr3.predict_proba(X_test)[:,1])\n",
    "print \"confusion_matrix:\\n\",confusion_matrix(y_test, lr3.predict(X_test))"
   ]
  },
  {
   "cell_type": "markdown",
   "metadata": {
    "slideshow": {
     "slide_type": "skip"
    }
   },
   "source": [
    "# TomekLinks"
   ]
  },
  {
   "cell_type": "code",
   "execution_count": 28,
   "metadata": {
    "slideshow": {
     "slide_type": "skip"
    }
   },
   "outputs": [
    {
     "data": {
      "text/plain": [
       "<matplotlib.axes._subplots.AxesSubplot at 0x7f5c5e952750>"
      ]
     },
     "execution_count": 28,
     "metadata": {},
     "output_type": "execute_result"
    },
    {
     "data": {
      "image/png": "[encoded data removed]",
      "text/plain": [
       "<matplotlib.figure.Figure at 0x7f5c574256d0>"
      ]
     },
     "metadata": {},
     "output_type": "display_data"
    }
   ],
   "source": [
    "from imblearn.under_sampling import TomekLinks\n",
    "\n",
    "tl = TomekLinks(random_state=9, ratio='not minority')\n",
    "X_sample4, y_sample4 = tl.fit_sample(X_train, y_train)\n",
    "sns.countplot(y_sample4)"
   ]
  },
  {
   "cell_type": "code",
   "execution_count": 29,
   "metadata": {
    "slideshow": {
     "slide_type": "skip"
    }
   },
   "outputs": [
    {
     "name": "stdout",
     "output_type": "stream",
     "text": [
      "f1_score\t: 0.556854410202\n",
      "precision_score\t: 0.919298245614\n",
      "recall_score\t: 0.399390243902\n",
      "roc_auc_score\t: 0.885476700473\n",
      "confusion_matrix:\n",
      "[[12343    23]\n",
      " [  394   262]]\n"
     ]
    }
   ],
   "source": [
    "rf4 = RandomForestClassifier(random_state=9)\n",
    "rf4.fit(X_sample4, y_sample4)\n",
    "print \"f1_score\\t:\", f1_score(y_test,rf4.predict(X_test))\n",
    "print \"precision_score\\t:\",precision_score(y_test, rf4.predict(X_test))\n",
    "print \"recall_score\\t:\",recall_score(y_test, rf4.predict(X_test))\n",
    "print \"roc_auc_score\\t:\",roc_auc_score(y_test, rf4.predict_proba(X_test)[:,1])\n",
    "print \"confusion_matrix:\\n\",confusion_matrix(y_test, rf4.predict(X_test))"
   ]
  },
  {
   "cell_type": "code",
   "execution_count": 30,
   "metadata": {
    "slideshow": {
     "slide_type": "skip"
    }
   },
   "outputs": [
    {
     "name": "stdout",
     "output_type": "stream",
     "text": [
      "f1_score\t: 0.00606980273141\n",
      "precision_score\t: 0.666666666667\n",
      "recall_score\t: 0.0030487804878\n",
      "roc_auc_score\t: 0.762609071688\n",
      "confusion_matrix:\n",
      "[[12365     1]\n",
      " [  654     2]]\n"
     ]
    }
   ],
   "source": [
    "lr4 = LogisticRegression(random_state=9)\n",
    "lr4.fit(X_sample4, y_sample4)\n",
    "print \"f1_score\\t:\", f1_score(y_test,lr4.predict(X_test))\n",
    "print \"precision_score\\t:\",precision_score(y_test, lr4.predict(X_test))\n",
    "print \"recall_score\\t:\",recall_score(y_test, lr4.predict(X_test))\n",
    "print \"roc_auc_score\\t:\",roc_auc_score(y_test, lr4.predict_proba(X_test)[:,1])\n",
    "print \"confusion_matrix:\\n\",confusion_matrix(y_test, lr4.predict(X_test))"
   ]
  },
  {
   "cell_type": "markdown",
   "metadata": {
    "slideshow": {
     "slide_type": "skip"
    }
   },
   "source": [
    "# OverSampling\n",
    "\n",
    "# 1. RandomOverSampler"
   ]
  },
  {
   "cell_type": "code",
   "execution_count": 31,
   "metadata": {
    "slideshow": {
     "slide_type": "skip"
    }
   },
   "outputs": [
    {
     "data": {
      "text/plain": [
       "<matplotlib.axes._subplots.AxesSubplot at 0x7f5c5a543e10>"
      ]
     },
     "execution_count": 31,
     "metadata": {},
     "output_type": "execute_result"
    },
    {
     "data": {
      "image/png": "[encoded data removed]",
      "text/plain": [
       "<matplotlib.figure.Figure at 0x7f5c5a58b590>"
      ]
     },
     "metadata": {},
     "output_type": "display_data"
    }
   ],
   "source": [
    "from imblearn.over_sampling import RandomOverSampler\n",
    "\n",
    "ros = RandomOverSampler(random_state=9)\n",
    "X_sample5, y_sample5 = ros.fit_sample(X_train, y_train)\n",
    "sns.countplot(y_sample5)"
   ]
  },
  {
   "cell_type": "code",
   "execution_count": 32,
   "metadata": {
    "slideshow": {
     "slide_type": "skip"
    }
   },
   "outputs": [
    {
     "name": "stdout",
     "output_type": "stream",
     "text": [
      "f1_score\t: 0.574317492417\n",
      "precision_score\t: 0.852852852853\n",
      "recall_score\t: 0.432926829268\n",
      "roc_auc_score\t: 0.906950497134\n",
      "confusion_matrix:\n",
      "[[12317    49]\n",
      " [  372   284]]\n"
     ]
    }
   ],
   "source": [
    "rf5 = RandomForestClassifier(random_state=9)\n",
    "rf5.fit(X_sample5, y_sample5)\n",
    "print \"f1_score\\t:\", f1_score(y_test,rf5.predict(X_test))\n",
    "print \"precision_score\\t:\",precision_score(y_test, rf5.predict(X_test))\n",
    "print \"recall_score\\t:\",recall_score(y_test, rf5.predict(X_test))\n",
    "print \"roc_auc_score\\t:\",roc_auc_score(y_test, rf5.predict_proba(X_test)[:,1])\n",
    "print \"confusion_matrix:\\n\",confusion_matrix(y_test, rf5.predict(X_test))"
   ]
  },
  {
   "cell_type": "code",
   "execution_count": 33,
   "metadata": {
    "slideshow": {
     "slide_type": "skip"
    }
   },
   "outputs": [
    {
     "name": "stdout",
     "output_type": "stream",
     "text": [
      "f1_score\t: 0.191212367779\n",
      "precision_score\t: 0.110328638498\n",
      "recall_score\t: 0.716463414634\n",
      "roc_auc_score\t: 0.765118780646\n",
      "confusion_matrix:\n",
      "[[8576 3790]\n",
      " [ 186  470]]\n"
     ]
    }
   ],
   "source": [
    "lr5 = LogisticRegression(random_state=9)\n",
    "lr5.fit(X_sample5, y_sample5)\n",
    "print \"f1_score\\t:\", f1_score(y_test,lr5.predict(X_test))\n",
    "print \"precision_score\\t:\",precision_score(y_test, lr5.predict(X_test))\n",
    "print \"recall_score\\t:\",recall_score(y_test, lr5.predict(X_test))\n",
    "print \"roc_auc_score\\t:\",roc_auc_score(y_test, lr5.predict_proba(X_test)[:,1])\n",
    "print \"confusion_matrix:\\n\",confusion_matrix(y_test, lr5.predict(X_test))"
   ]
  },
  {
   "cell_type": "markdown",
   "metadata": {
    "slideshow": {
     "slide_type": "slide"
    }
   },
   "source": [
    "# 2. SMOTE"
   ]
  },
  {
   "cell_type": "code",
   "execution_count": 34,
   "metadata": {
    "slideshow": {
     "slide_type": "subslide"
    }
   },
   "outputs": [
    {
     "data": {
      "text/plain": [
       "<matplotlib.axes._subplots.AxesSubplot at 0x7f5c57b48250>"
      ]
     },
     "execution_count": 34,
     "metadata": {},
     "output_type": "execute_result"
    },
    {
     "data": {
      "image/png": "[encoded data removed]",
      "text/plain": [
       "<matplotlib.figure.Figure at 0x7f5c5a5f3bd0>"
      ]
     },
     "metadata": {},
     "output_type": "display_data"
    }
   ],
   "source": [
    "from imblearn.over_sampling import SMOTE\n",
    "\n",
    "smote = SMOTE(random_state=9, kind=\"borderline2\")\n",
    "X_sample6, y_sample6 = smote.fit_sample(X_train, y_train)\n",
    "sns.countplot(y_sample6)"
   ]
  },
  {
   "cell_type": "code",
   "execution_count": 35,
   "metadata": {
    "slideshow": {
     "slide_type": "subslide"
    }
   },
   "outputs": [
    {
     "name": "stdout",
     "output_type": "stream",
     "text": [
      "f1_score\t: 0.523480662983\n",
      "precision_score\t: 0.478535353535\n",
      "recall_score\t: 0.577743902439\n",
      "roc_auc_score\t: 0.907593117734\n",
      "confusion_matrix:\n",
      "[[11953   413]\n",
      " [  277   379]]\n"
     ]
    }
   ],
   "source": [
    "rf6 = RandomForestClassifier(random_state=9)\n",
    "rf6.fit(X_sample6, y_sample6)\n",
    "print \"f1_score\\t:\", f1_score(y_test,rf6.predict(X_test))\n",
    "print \"precision_score\\t:\",precision_score(y_test, rf6.predict(X_test))\n",
    "print \"recall_score\\t:\",recall_score(y_test, rf6.predict(X_test))\n",
    "print \"roc_auc_score\\t:\",roc_auc_score(y_test, rf6.predict_proba(X_test)[:,1])\n",
    "print \"confusion_matrix:\\n\",confusion_matrix(y_test, rf6.predict(X_test))"
   ]
  },
  {
   "cell_type": "code",
   "execution_count": 36,
   "metadata": {
    "slideshow": {
     "slide_type": "skip"
    }
   },
   "outputs": [
    {
     "name": "stdout",
     "output_type": "stream",
     "text": [
      "f1_score\t: 0.194420963652\n",
      "precision_score\t: 0.112855740922\n",
      "recall_score\t: 0.701219512195\n",
      "roc_auc_score\t: 0.764553205485\n",
      "confusion_matrix:\n",
      "[[8750 3616]\n",
      " [ 196  460]]\n"
     ]
    }
   ],
   "source": [
    "lr6 = LogisticRegression(random_state=9)\n",
    "lr6.fit(X_sample6, y_sample6)\n",
    "print \"f1_score\\t:\", f1_score(y_test,lr6.predict(X_test))\n",
    "print \"precision_score\\t:\",precision_score(y_test, lr6.predict(X_test))\n",
    "print \"recall_score\\t:\",recall_score(y_test, lr6.predict(X_test))\n",
    "print \"roc_auc_score\\t:\",roc_auc_score(y_test, lr6.predict_proba(X_test)[:,1])\n",
    "print \"confusion_matrix:\\n\",confusion_matrix(y_test, lr6.predict(X_test))"
   ]
  },
  {
   "cell_type": "markdown",
   "metadata": {
    "slideshow": {
     "slide_type": "skip"
    }
   },
   "source": [
    "# Algorithmic Approach"
   ]
  },
  {
   "cell_type": "code",
   "execution_count": 41,
   "metadata": {
    "collapsed": true,
    "slideshow": {
     "slide_type": "skip"
    }
   },
   "outputs": [],
   "source": [
    "class_wts = range(50)\n",
    "f1s = []\n",
    "auc = []\n",
    "for wt in class_wts:\n",
    "    rf7 = RandomForestClassifier(random_state=9, class_weight={0:wt,1:1})\n",
    "    rf7.fit(X_train, y_train)\n",
    "    f1s.append(f1_score(y_test, rf7.predict(X_test)))\n",
    "    auc.append(roc_auc_score(y_test, rf7.predict_proba(X_test)[:,1]))"
   ]
  },
  {
   "cell_type": "code",
   "execution_count": 42,
   "metadata": {
    "slideshow": {
     "slide_type": "skip"
    }
   },
   "outputs": [
    {
     "name": "stdout",
     "output_type": "stream",
     "text": [
      "f1_score\t: 0.57641025641\n",
      "precision_score\t: 0.880877742947\n",
      "recall_score\t: 0.428353658537\n",
      "roc_auc_score\t: 0.876415108993\n",
      "confusion_matrix:\n",
      "[[12328    38]\n",
      " [  375   281]]\n"
     ]
    }
   ],
   "source": [
    "max_scorer = f1s.index(np.max(f1s))\n",
    "rf7 = RandomForestClassifier(random_state=9, class_weight={0:max_scorer,1:1})\n",
    "rf7.fit(X_train, y_train)\n",
    "print \"f1_score\\t:\", f1_score(y_test,rf7.predict(X_test))\n",
    "print \"precision_score\\t:\",precision_score(y_test, rf7.predict(X_test))\n",
    "print \"recall_score\\t:\",recall_score(y_test, rf7.predict(X_test))\n",
    "print \"roc_auc_score\\t:\",roc_auc_score(y_test, rf7.predict_proba(X_test)[:,1])\n",
    "print \"confusion_matrix:\\n\",confusion_matrix(y_test, rf7.predict(X_test))"
   ]
  },
  {
   "cell_type": "code",
   "execution_count": 43,
   "metadata": {
    "slideshow": {
     "slide_type": "skip"
    }
   },
   "outputs": [
    {
     "data": {
      "image/png": "[encoded data removed]",
      "text/plain": [
       "<matplotlib.figure.Figure at 0x7f5c5a5d0990>"
      ]
     },
     "metadata": {},
     "output_type": "display_data"
    }
   ],
   "source": [
    "plt.figure(figsize=(10, 8))\n",
    "plt.plot(class_wts, f1s, label=\"F1 scores\")\n",
    "plt.plot(class_wts, auc, label=\"AUC scores\")\n",
    "plt.xlabel(\"class weight\")\n",
    "plt.ylabel(\"scores\")\n",
    "plt.title(\"Effect of Class Wt. in Imbalanced Classes\")\n",
    "plt.legend()\n",
    "plt.show()"
   ]
  },
  {
   "cell_type": "markdown",
   "metadata": {
    "slideshow": {
     "slide_type": "slide"
    }
   },
   "source": [
    "# Sampling Metrics"
   ]
  },
  {
   "cell_type": "code",
   "execution_count": 106,
   "metadata": {
    "slideshow": {
     "slide_type": "skip"
    }
   },
   "outputs": [
    {
     "name": "stdout",
     "output_type": "stream",
     "text": [
      "/home/rohan/GreyAtom/Hackathon/Team4\n"
     ]
    }
   ],
   "source": [
    "from os import getcwd ; print(getcwd())\n",
    "from IPython.display import Image\n",
    "PATH = \"/home/rohan/Pictures/\""
   ]
  },
  {
   "cell_type": "code",
   "execution_count": 107,
   "metadata": {
    "slideshow": {
     "slide_type": "slide"
    }
   },
   "outputs": [
    {
     "data": {
      "image/png": "[encoded data removed]",
      "text/plain": [
       "<IPython.core.display.Image object>"
      ]
     },
     "execution_count": 107,
     "metadata": {
      "image/png": {
       "height": 1000,
       "width": 1000
      }
     },
     "output_type": "execute_result"
    }
   ],
   "source": [
    "Image(filename = PATH + \"metrics.png\", width=1000, height=1000)"
   ]
  },
  {
   "cell_type": "markdown",
   "metadata": {
    "slideshow": {
     "slide_type": "skip"
    }
   },
   "source": [
    "# Final Model"
   ]
  },
  {
   "cell_type": "markdown",
   "metadata": {
    "collapsed": true,
    "slideshow": {
     "slide_type": "skip"
    }
   },
   "source": [
    "# We are using samples from SMOTE as it gave us best results"
   ]
  },
  {
   "cell_type": "code",
   "execution_count": 44,
   "metadata": {
    "slideshow": {
     "slide_type": "skip"
    }
   },
   "outputs": [
    {
     "name": "stdout",
     "output_type": "stream",
     "text": [
      "f1_score\t: 0.56567284448\n",
      "precision_score\t: 0.6\n",
      "recall_score\t: 0.53506097561\n",
      "roc_auc_score\t: 0.917253629641\n",
      "confusion_matrix:\n",
      "[[12132   234]\n",
      " [  305   351]]\n"
     ]
    }
   ],
   "source": [
    "clf1 = ExtraTreesClassifier(n_estimators=250,\n",
    "                            n_jobs=-1,\n",
    "                            random_state=9)\n",
    "clf1.fit(X_sample6, y_sample6)\n",
    "print \"f1_score\\t:\", f1_score(y_test,clf1.predict(X_test))\n",
    "print \"precision_score\\t:\",precision_score(y_test, clf1.predict(X_test))\n",
    "print \"recall_score\\t:\",recall_score(y_test, clf1.predict(X_test))\n",
    "print \"roc_auc_score\\t:\",roc_auc_score(y_test, clf1.predict_proba(X_test)[:,1])\n",
    "print \"confusion_matrix:\\n\",confusion_matrix(y_test, clf1.predict(X_test))"
   ]
  },
  {
   "cell_type": "code",
   "execution_count": null,
   "metadata": {
    "collapsed": true,
    "slideshow": {
     "slide_type": "skip"
    }
   },
   "outputs": [],
   "source": [
    "# !pip install xgboost"
   ]
  },
  {
   "cell_type": "code",
   "execution_count": 46,
   "metadata": {
    "slideshow": {
     "slide_type": "skip"
    }
   },
   "outputs": [
    {
     "name": "stdout",
     "output_type": "stream",
     "text": [
      "f1_score\t: 0.352688172043\n",
      "precision_score\t: 0.230552952202\n",
      "recall_score\t: 0.75\n",
      "roc_auc_score\t: 0.899007420524\n",
      "confusion_matrix:\n",
      "[[10724  1642]\n",
      " [  164   492]]\n"
     ]
    }
   ],
   "source": [
    "from xgboost import XGBClassifier\n",
    "\n",
    "clf2 = XGBClassifier()\n",
    "clf2.fit(X_sample6, y_sample6)\n",
    "print \"f1_score\\t:\", f1_score(y_test,clf2.predict(X_test))\n",
    "print \"precision_score\\t:\",precision_score(y_test, clf2.predict(X_test))\n",
    "print \"recall_score\\t:\",recall_score(y_test, clf2.predict(X_test))\n",
    "print \"roc_auc_score\\t:\",roc_auc_score(y_test, clf2.predict_proba(X_test)[:,1])\n",
    "print \"confusion_matrix:\\n\",confusion_matrix(y_test, clf2.predict(X_test))"
   ]
  },
  {
   "cell_type": "code",
   "execution_count": 52,
   "metadata": {
    "slideshow": {
     "slide_type": "skip"
    }
   },
   "outputs": [
    {
     "data": {
      "text/plain": [
       "ExtraTreesClassifier(bootstrap=False, class_weight=None, criterion='entropy',\n",
       "           max_depth=None, max_features='auto', max_leaf_nodes=None,\n",
       "           min_impurity_decrease=0.0, min_impurity_split=None,\n",
       "           min_samples_leaf=1, min_samples_split=2,\n",
       "           min_weight_fraction_leaf=0.0, n_estimators=300, n_jobs=-1,\n",
       "           oob_score=False, random_state=9, verbose=0, warm_start=False)"
      ]
     },
     "execution_count": 52,
     "metadata": {},
     "output_type": "execute_result"
    }
   ],
   "source": [
    "from sklearn.model_selection import GridSearchCV,cross_val_score\n",
    "\n",
    "est = ExtraTreesClassifier(n_jobs=-1,random_state=9)\n",
    "\n",
    "params = {\n",
    "            \"n_estimators\" : [200,250,300],\n",
    "            \"criterion\" : [\"gini\", \"entropy\"] \n",
    "          }\n",
    "\n",
    "grid = GridSearchCV(estimator=est,param_grid=params,n_jobs=-1,cv=3)\n",
    "grid.fit(X_sample6, y_sample6)\n",
    "\n",
    "grid.best_estimator_"
   ]
  },
  {
   "cell_type": "code",
   "execution_count": 53,
   "metadata": {
    "slideshow": {
     "slide_type": "skip"
    }
   },
   "outputs": [
    {
     "name": "stdout",
     "output_type": "stream",
     "text": [
      "f1_score\t: 0.577419354839\n",
      "precision_score\t: 0.61301369863\n",
      "recall_score\t: 0.545731707317\n",
      "roc_auc_score\t: 0.918492458669\n",
      "confusion_matrix:\n",
      "[[12140   226]\n",
      " [  298   358]]\n"
     ]
    }
   ],
   "source": [
    "print \"f1_score\\t:\", f1_score(y_test,grid.predict(X_test))\n",
    "print \"precision_score\\t:\",precision_score(y_test, grid.predict(X_test))\n",
    "print \"recall_score\\t:\",recall_score(y_test, grid.predict(X_test))\n",
    "print \"roc_auc_score\\t:\",roc_auc_score(y_test, grid.predict_proba(X_test)[:,1])\n",
    "print \"confusion_matrix:\\n\",confusion_matrix(y_test, grid.predict(X_test))"
   ]
  },
  {
   "cell_type": "code",
   "execution_count": 79,
   "metadata": {
    "collapsed": true,
    "slideshow": {
     "slide_type": "skip"
    }
   },
   "outputs": [],
   "source": [
    "best_features = ['Attr27', 'Attr46', 'Attr58', 'Attr34', 'Attr24', 'Attr56', 'Attr35', \\\n",
    "                     'Attr9', 'Attr39', 'Attr29', 'Attr61', 'Attr5', 'Attr55', 'Attr44', \\\n",
    "                     'Attr25', 'Attr6', 'Attr47', 'Attr36']"
   ]
  },
  {
   "cell_type": "markdown",
   "metadata": {
    "slideshow": {
     "slide_type": "slide"
    }
   },
   "source": [
    "# Final Prediction"
   ]
  },
  {
   "cell_type": "code",
   "execution_count": 100,
   "metadata": {
    "slideshow": {
     "slide_type": "subslide"
    }
   },
   "outputs": [
    {
     "name": "stdout",
     "output_type": "stream",
     "text": [
      "0    1\n",
      "1    1\n",
      "2    1\n",
      "3    0\n",
      "4    0\n",
      "5    0\n",
      "Name: class, dtype: int64\n"
     ]
    }
   ],
   "source": [
    "testdf = pd.read_csv('testdata.csv')\n",
    "\n",
    "X_test_df = testdf.iloc[:,:-1]\n",
    "X_test_df = X_test_df[best_features]\n",
    "Y_test_df = testdf.iloc[:,-1]\n",
    "print Y_test_df"
   ]
  },
  {
   "cell_type": "code",
   "execution_count": 98,
   "metadata": {
    "slideshow": {
     "slide_type": "subslide"
    }
   },
   "outputs": [
    {
     "name": "stdout",
     "output_type": "stream",
     "text": [
      "[1 1 1 0 0 0]\n"
     ]
    }
   ],
   "source": [
    "import numpy as np\n",
    "y_pred = rf6.predict(X_test_df)\n",
    "print y_pred"
   ]
  },
  {
   "cell_type": "code",
   "execution_count": null,
   "metadata": {
    "collapsed": true,
    "slideshow": {
     "slide_type": "slide"
    }
   },
   "outputs": [],
   "source": [
    "from sklearn.ensemble import RandomForestClassifier,ExtraTreesClassifier\n",
    "from sklearn.linear_model import LogisticRegression\n",
    "from sklearn.metrics import f1_score,precision_score,recall_score,roc_auc_score,confusion_matrix, accuracy_score\n",
    "from collections import OrderedDict\n",
    "\n",
    "rf1 = LogisticRegression(random_state=9)\n",
    "rf2 = RandomForestClassifier(random_state=9)\n",
    "rf3 = ExtraTreesClassifier(random_state=9)\n",
    "\n",
    "def preprocess_and_predict(model, name, X_test):\n",
    "    print name\n",
    "    best_features = ['Attr27', 'Attr46', 'Attr58', 'Attr34', 'Attr24', 'Attr56', 'Attr35', \\\n",
    "                     'Attr9', 'Attr39', 'Attr29', 'Attr61', 'Attr5', 'Attr55', 'Attr44', \\\n",
    "                     'Attr25', 'Attr6', 'Attr47', 'Attr36']\n",
    "    for col in best_features:\n",
    "        # Outliers to be brought within .05-.95 quantile range\n",
    "        if(col != 'class'):\n",
    "            X_test.loc[X_test[col] > final_df[col].quantile(q=0.95), col] = final_df[col].quantile(q=0.95)\n",
    "            X_test.loc[X_test[col] < final_df[col].quantile(q=0.05), col] = final_df[col].quantile(q=0.05)\n",
    "        # Fill na values with mean of available data\n",
    "        X_test[col] = X_test[col].fillna(final_data[col].mean())\n",
    "        # Scale assuming normal distribution\n",
    "        X_test[col] = (X_test[col] - final_data[col].mean())/final_data[col].std()\n",
    "    #X_input = X_test[[attr_list]]\n",
    "    X_input = X_test\n",
    "    y_pred = model.predict(X_input)\n",
    "    y_pred_prob = model.predict_proba(X_input)[:,1]\n",
    "    return y_pred, y_pred_prob\n",
    "\n",
    "def predict_and_score (model, name, X_test, y_test):\n",
    "    print name\n",
    "    y_pred, y_pred_prob = preprocess_and_predict(model, name, X_test)\n",
    "    \n",
    "    f1 = f1_score(y_test, y_pred)\n",
    "    precision = precision_score(y_test, y_pred)   \n",
    "    recall = recall_score(y_test, y_pred)    \n",
    "    auc = roc_auc_score(y_test, y_pred_prob)\n",
    "    accuracy = accuracy_score(y_test, y_pred)\n",
    "    print \"f1_score\\t:\", f1\n",
    "    print \"precision_score\\t:\",precision\n",
    "    print \"recall_score\\t:\", recall\n",
    "    print \"roc_auc_score\\t:\",auc\n",
    "    print \"accuracy:\\n\", accuracy\n",
    "    print \"confusion_matrix:\\n\",confusion_matrix(y_test, y_pred) \n",
    "    return OrderedDict({\"model\": name, \"f1\": f1, \"precision\" : precision, \"recall\" : recall, \"roc_auc\": auc, \"accuracy\": accuracy})\n",
    "\n",
    "def sample_and_model(sampler, samplerName, xtrain, ytrain, X_test, y_test):\n",
    "    print samplerName, \"\\n\"\n",
    "    X_sample2, y_sample2 =  sampler.fit_sample(xtrain, ytrain)\n",
    "    \n",
    "    rows = []\n",
    "    rf1.fit (X_sample2, y_sample2)\n",
    "    score1 = predict_and_score (rf1, samplerName + \": LogisticRegression\", X_test, y_test)\n",
    "    rows.append(score1)\n",
    "    \n",
    "    rf2.fit (X_sample2, y_sample2)\n",
    "    score2 = predict_and_score (rf2, samplerName + \": RandomForestClassifier\", X_test, y_test) \n",
    "    rows.append(score2)\n",
    "    \n",
    "    rf3.fit (X_sample2, y_sample2)\n",
    "    score3 = predict_and_score (rf3, samplerName + \": ExtraTreesClassifier\", X_test, y_test) \n",
    "    rows.append(score3)\n",
    "    summary = pd.DataFrame(rows)\n",
    "    return summary"
   ]
  },
  {
   "cell_type": "markdown",
   "metadata": {
    "slideshow": {
     "slide_type": "slide"
    }
   },
   "source": [
    "# The End"
   ]
  }
 ],
 "metadata": {
  "celltoolbar": "Slideshow",
  "kernelspec": {
   "display_name": "Python 2",
   "language": "python",
   "name": "python2"
  },
  "language_info": {
   "codemirror_mode": {
    "name": "ipython",
    "version": 2
   },
   "file_extension": ".py",
   "mimetype": "text/x-python",
   "name": "python",
   "nbconvert_exporter": "python",
   "pygments_lexer": "ipython2",
   "version": "2.7.14"
  }
 },
 "nbformat": 4,
 "nbformat_minor": 2
}
